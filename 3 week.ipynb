{
 "cells": [
  {
   "cell_type": "code",
   "execution_count": 3,
   "id": "b75d7b08",
   "metadata": {},
   "outputs": [],
   "source": [
    "import cv2\n",
    "import numpy as np"
   ]
  },
  {
   "cell_type": "code",
   "execution_count": 25,
   "id": "335dafc0",
   "metadata": {},
   "outputs": [],
   "source": [
    "## 직선 검출\n",
    "src = cv2.imread('image/road.jpg', 1)\n",
    "##src = cv2.resize(src, dsize = (0,0), fx = 0.5, fy = 0.5,interpolation = cv2.INTER_AREA)\n",
    "dst = src.copy()\n",
    "gray = cv2.cvtColor(src, cv2.COLOR_BGR2GRAY)\n",
    "canny = cv2.Canny(gray, 5000, 1500, apertureSize = 5, L2gradient = True)\n",
    "lines = cv2.HoughLines(canny, 0.8, np.pi / 180, 150, srn = 100, min_theta = 0, max_theta = np.pi)\n",
    "\n",
    "for i in lines:\n",
    "    rho, theta = i[0][0], i[0][1]\n",
    "    a, b = np.cos(theta), np.sin(theta)\n",
    "    x0, y0 = a*rho, b*rho\n",
    "    \n",
    "    scale = src.shape[0] + src.shape[1]\n",
    "    \n",
    "    x1 = int(x0 + scale * -b)\n",
    "    y1 = int(y0 + scale * a)\n",
    "    x2 = int(x0 - scale * -b)\n",
    "    y2 = int(y0 - scale * a)\n",
    "    \n",
    "    cv2.line(dst,(x1,y1),(x2,y2),(0,0,255),2)\n",
    "    cv2.circle(dst,(x0.astype(np.uint16),y0.astype(np.uint16)),3, (255,0,0), 5,cv2.FILLED)\n",
    "    ## circle 함수는 중앙점을 대입할 때 자료형이 uint16 이여야 함.\n",
    "    \n",
    "    \n",
    "cv2.imshow('canny',canny)   \n",
    "cv2.imshow('dst',dst)\n",
    "cv2.waitKey(0)\n",
    "cv2.destroyAllWindows()"
   ]
  },
  {
   "cell_type": "code",
   "execution_count": 10,
   "id": "a27ca8cc",
   "metadata": {},
   "outputs": [
    {
     "name": "stdout",
     "output_type": "stream",
     "text": [
      "[[[  9.2         2.0943952]]\n",
      "\n",
      " [[ -1.2         2.1118484]]\n",
      "\n",
      " [[451.6         1.134464 ]]\n",
      "\n",
      " [[448.4         1.1519173]]\n",
      "\n",
      " [[ 28.4         2.0769417]]\n",
      "\n",
      " [[ 14.8         2.0943952]]\n",
      "\n",
      " [[447.6         1.134464 ]]\n",
      "\n",
      " [[450.80002     1.1519173]]\n",
      "\n",
      " [[ 51.600002    2.042035 ]]\n",
      "\n",
      " [[ 24.4         2.0769417]]\n",
      "\n",
      " [[ 42.          2.0594885]]\n",
      "\n",
      " [[450.          1.1170107]]]\n"
     ]
    }
   ],
   "source": [
    "print(lines)"
   ]
  },
  {
   "cell_type": "code",
   "execution_count": null,
   "id": "70e7c51a",
   "metadata": {},
   "outputs": [],
   "source": []
  }
 ],
 "metadata": {
  "kernelspec": {
   "display_name": "Python 3 (ipykernel)",
   "language": "python",
   "name": "python3"
  },
  "language_info": {
   "codemirror_mode": {
    "name": "ipython",
    "version": 3
   },
   "file_extension": ".py",
   "mimetype": "text/x-python",
   "name": "python",
   "nbconvert_exporter": "python",
   "pygments_lexer": "ipython3",
   "version": "3.9.7"
  }
 },
 "nbformat": 4,
 "nbformat_minor": 5
}
