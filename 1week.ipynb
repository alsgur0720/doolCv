{
 "cells": [
  {
   "cell_type": "code",
   "execution_count": 1,
   "id": "64c0191e",
   "metadata": {},
   "outputs": [],
   "source": [
    "import numpy as np\n",
    "import cv2\n",
    "\n",
    "\n",
    "image1 = cv2.imread(\"image/tomato.jpg\", cv2.IMREAD_COLOR)\n",
    "image2 = cv2.imread(\"image/tomato.jpg\", cv2.IMREAD_GRAYSCALE)\n",
    "image3 = cv2.imread(\"image/tomato.jpg\", cv2.IMREAD_UNCHANGED)\n",
    "\n",
    "image1 = cv2.resize(image1, dsize=(640, 480))\n",
    "image2 = cv2.resize(image2, dsize=(640, 480))\n",
    "image3 = cv2.resize(image3, dsize=(640, 480))\n",
    "\n",
    "cv2.imshow('1',image1)\n",
    "cv2.imshow('2',image2)\n",
    "cv2.imshow('3',image3)\n",
    "\n",
    "cv2.waitKey(1000)\n",
    "cv2.destroyAllWindows()"
   ]
  },
  {
   "cell_type": "code",
   "execution_count": null,
   "id": "9399c581",
   "metadata": {},
   "outputs": [],
   "source": [
    "zero = np.zeros((5,5,3))\n",
    "\n",
    "print(zero[:][:][2])"
   ]
  },
  {
   "cell_type": "code",
   "execution_count": null,
   "id": "5ed02bea",
   "metadata": {},
   "outputs": [],
   "source": [
    "src = cv2.imread('image/ch.jpg', cv2.IMREAD_COLOR)\n",
    "\n",
    "dst = cv2.resize(src, dsize=(640, 800), interpolation = cv2.INTER_AREA)\n",
    "dst2 = cv2.resize(src, dsize=(640,800),interpolation = cv2.INTER_NEAREST)\n",
    "dst3 = cv2.resize(src, dsize=(640,800),interpolation = cv2.INTER_LINEAR)\n",
    "\n",
    "\n",
    "cv2.imshow('src',src)\n",
    "cv2.imshow(\"dst\", dst)\n",
    "cv2.imshow(\"dst2\", dst2)\n",
    "cv2.imshow(\"dst3\", dst3)\n",
    "cv2.waitKey()\n",
    "cv2.destroyAllWindows()"
   ]
  },
  {
   "cell_type": "code",
   "execution_count": 2,
   "id": "55c898d5",
   "metadata": {},
   "outputs": [],
   "source": [
    "cap1 = cv2.VideoCapture(0)\n",
    "cap2 = cv2.VideoCapture('image/hhh.mp4')\n",
    "cap1.set(cv2.CAP_PROP_FRAME_WIDTH, 200)\n",
    "cap1.set(cv2.CAP_PROP_FRAME_HEIGHT, 100)\n",
    "cap2.set(cv2.CAP_PROP_FRAME_WIDTH, 200)\n",
    "cap2.set(cv2.CAP_PROP_FRAME_HEIGHT, 100)\n",
    "\n",
    "while cv2.waitKey(33) < 0:\n",
    "    if cap2.get(cv2.CAP_PROP_POS_FRAMES) == cap2.get(cv2.CAP_PROP_FRAME_COUNT):\n",
    "        cap2.set(cv2.CAP_PROP_POS_FRAMES, 0)\n",
    "    ret, frame2 = cap2.read()\n",
    "    cv2.imshow(\"videoCam\", frame2)\n",
    "    \n",
    "\n",
    "    ret, frame1 = cap1.read()\n",
    "    cv2.imshow(\"VideoAvi\", frame1)\n",
    "    \n",
    "cap1.release()\n",
    "cap2.release()\n",
    "cv2.destroyAllWindows()"
   ]
  },
  {
   "cell_type": "code",
   "execution_count": null,
   "id": "5ed3bf36",
   "metadata": {},
   "outputs": [],
   "source": []
  }
 ],
 "metadata": {
  "kernelspec": {
   "display_name": "Python 3 (ipykernel)",
   "language": "python",
   "name": "python3"
  },
  "language_info": {
   "codemirror_mode": {
    "name": "ipython",
    "version": 3
   },
   "file_extension": ".py",
   "mimetype": "text/x-python",
   "name": "python",
   "nbconvert_exporter": "python",
   "pygments_lexer": "ipython3",
   "version": "3.9.7"
  }
 },
 "nbformat": 4,
 "nbformat_minor": 5
}
