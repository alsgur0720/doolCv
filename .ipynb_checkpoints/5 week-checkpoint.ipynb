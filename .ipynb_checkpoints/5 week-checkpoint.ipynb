{
 "cells": [
  {
   "cell_type": "code",
   "execution_count": 1,
   "id": "1717a879",
   "metadata": {},
   "outputs": [],
   "source": [
    "import numpy as np\n",
    "import cv2"
   ]
  },
  {
   "cell_type": "code",
   "execution_count": 13,
   "id": "6a9ede32",
   "metadata": {},
   "outputs": [],
   "source": [
    "## 템플릿 검출\n",
    "\n",
    "capture = cv2.VideoCapture(0)\n",
    "capture.set(cv2.CAP_PROP_FRAME_WIDTH, 640)\n",
    "capture.set(cv2.CAP_PROP_FRAME_HEIGHT, 480)\n",
    "templit = cv2.imread(\"image/sky.jpg\", 0)\n",
    "## templit = cv2.resize(templit, dsize = (0,0), fx = 0.5, fy = 0.5, interpolation = cv2.INTER_AREA)\n",
    "\n",
    "\n",
    "while capture.isOpened():\n",
    "    ret, frame = capture.read()\n",
    "    if not ret:\n",
    "        break\n",
    "        \n",
    "    if cv2. waitKey(33) == ord('q'):\n",
    "        break\n",
    "        \n",
    "    \n",
    "    dst = frame.copy()\n",
    "    dst = cv2.cvtColor(dst,cv2.COLOR_BGR2GRAY)\n",
    "    result = cv2.matchTemplate(dst, templit, cv2.TM_SQDIFF_NORMED)\n",
    "    minVal, maxVal, minLoc, maxLoc = cv2.minMaxLoc(result)\n",
    "    x, y = minLoc\n",
    "    h, w = templit.shape\n",
    "    frame = cv2.rectangle(frame, (x, y), (x +  w, y + h) , (0, 0, 255), 1)\n",
    "        \n",
    "    \n",
    "    cv2.imshow('Video', frame)\n",
    "    \n",
    "    \n",
    "capture.release()    \n",
    "cv2.destroyAllWindows()"
   ]
  },
  {
   "cell_type": "code",
   "execution_count": null,
   "id": "7d2883fd",
   "metadata": {},
   "outputs": [],
   "source": [
    "## ORB 알고리즘 (fast detector(검출기), brief descriptor(기술자))\n",
    "\n",
    "\n",
    "src = cv2.imread('image/apple_book.jpg', 1)\n",
    "gray = cv2.cvtColor(src, cv2.COLOR_BGR2GRAY)\n",
    "target = cv2.imread('image/apple,jpg', 0)\n",
    "\n",
    "orb = cv2.ORB_create(\n",
    "    nfeatures = 40000,\n",
    "    scaleFactor = 1.2,\n",
    "    nlevels = 8,\n",
    "    edgeThreshold = 31,\n",
    "    firstLevel = 0,\n",
    "    WTA_K = 2,\n",
    "    scorType = cv2.ORB_HARRIS_SCORE,\n",
    "    patchSize = 31,\n",
    "    fastThreshold = 20,\n",
    "    \n",
    ")\n",
    "\n",
    "kp1, des1 = orb.detectAndCompute(gray, None)\n",
    "kp2, des2 = orb.detectAndCompute(target, None)"
   ]
  },
  {
   "cell_type": "code",
   "execution_count": null,
   "id": "d0eeccdf",
   "metadata": {},
   "outputs": [],
   "source": []
  }
 ],
 "metadata": {
  "kernelspec": {
   "display_name": "Python 3 (ipykernel)",
   "language": "python",
   "name": "python3"
  },
  "language_info": {
   "codemirror_mode": {
    "name": "ipython",
    "version": 3
   },
   "file_extension": ".py",
   "mimetype": "text/x-python",
   "name": "python",
   "nbconvert_exporter": "python",
   "pygments_lexer": "ipython3",
   "version": "3.9.7"
  }
 },
 "nbformat": 4,
 "nbformat_minor": 5
}
