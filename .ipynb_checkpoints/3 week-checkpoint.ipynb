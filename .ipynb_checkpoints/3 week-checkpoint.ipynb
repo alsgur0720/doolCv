{
 "cells": [
  {
   "cell_type": "code",
   "execution_count": 1,
   "metadata": {},
   "outputs": [],
   "source": [
    "import cv2\n",
    "import numpy as np"
   ]
  },
  {
   "cell_type": "code",
   "execution_count": 2,
   "metadata": {},
   "outputs": [],
   "source": [
    "## 도형 선 그리기\n",
    "\n",
    "\n",
    "src = np.zeros((700,1000,3), dtype=np.uint8) ## height = 700, width = 1000, channel = 3\n",
    "\n",
    "src = cv2.line(src,(100,100),(500,200),(0,0,255),3,cv2.LINE_AA)\n",
    "src = cv2.line(src,(100,200),(500,300),(0,0,255),3,cv2.LINE_4)\n",
    "src = cv2.line(src,(100,300),(500,400),(0,0,255),3,cv2.LINE_8)\n",
    "\n",
    "\n",
    "cv2.imshow('src', src)\n",
    "\n",
    "cv2.waitKey()\n",
    "cv2.destroyAllWindows()"
   ]
  },
  {
   "cell_type": "code",
   "execution_count": 3,
   "metadata": {},
   "outputs": [],
   "source": [
    "## 도형 원 그리기\n",
    "\n",
    "src = np.zeros((700,1000,3), dtype=np.uint8)\n",
    "\n",
    "src = cv2.circle(src,(200,200), 50, (0,255,0),cv2.FILLED, cv2.LINE_AA)\n",
    "src = cv2.circle(src,(300,300), 50, (0,255,0), cv2.LINE_4)\n",
    "src = cv2.circle(src,(400,400), 50, (0,255,0),10, cv2.LINE_8)\n",
    "\n",
    "cv2.imshow('src',src)\n",
    "cv2.waitKey()\n",
    "cv2.destroyAllWindows()"
   ]
  },
  {
   "cell_type": "code",
   "execution_count": 4,
   "metadata": {},
   "outputs": [],
   "source": [
    "## 도형 사각형 그리기\n",
    "\n",
    "\n",
    "src = np.zeros((700,1000,3), dtype=np.uint8)\n",
    "\n",
    "\n",
    "src = cv2.rectangle(src, (25,25),(125,125),(255,0,0),cv2.FILLED,cv2.LINE_AA)\n",
    "src = cv2.rectangle(src, (150,150),(250,250),(255,0,0),cv2.LINE_4)\n",
    "src = cv2.rectangle(src, (300,300),(400,400),(255,0,0),5,cv2.LINE_8)\n",
    "\n",
    "cv2.imshow('src',src)\n",
    "cv2.waitKey()\n",
    "cv2.destroyAllWindows()"
   ]
  },
  {
   "cell_type": "code",
   "execution_count": 6,
   "metadata": {},
   "outputs": [],
   "source": [
    "## 도형 호 그리기\n",
    "\n",
    "\n",
    "src = np.zeros((700,1000,3), dtype=np.uint8)\n",
    "\n",
    "src = cv2.ellipse(src, (100,200),(100,50),0,0,90,(255,255,0),cv2.LINE_8)\n",
    "src = cv2.ellipse(src, (200,400),(100,50),0,0,160,(255,255,0),4,cv2.LINE_4)\n",
    "src = cv2.ellipse(src, (300,600),(100,50),0,0,310,(255,255,0),cv2.FILLED,cv2.LINE_AA)\n",
    "\n",
    "\n",
    "cv2.imshow('src',src)\n",
    "cv2.waitKey()\n",
    "cv2.destroyAllWindows()"
   ]
  },
  {
   "cell_type": "code",
   "execution_count": 7,
   "metadata": {},
   "outputs": [],
   "source": [
    "## 도형 다각형 그리기 속 x\n",
    "\n",
    "src = np.zeros((700,1000,3), dtype=np.uint8)\n",
    "\n",
    "pts1 = np.array([[100,100],[10,150],[190,150]])\n",
    "pts2 = np.array([[150,200],[100,250],[125,300],[180,300],[200,250]])\n",
    "pts3 = np.array([[500,350],[380,650],[700,450],[300,450],[620,650]])\n",
    "src = cv2.polylines(src, [pts1,pts2,pts3], True, (0,255,255),1)\n",
    "\n",
    "\n",
    "\n",
    "cv2.imshow('src',src)\n",
    "cv2.waitKey()\n",
    "cv2.destroyAllWindows()"
   ]
  },
  {
   "cell_type": "code",
   "execution_count": 9,
   "metadata": {},
   "outputs": [],
   "source": [
    "## 도형 다각형 그리기 속 o\n",
    "\n",
    "src = np.zeros((700,1000,3), dtype=np.uint8)\n",
    "\n",
    "pts1 = np.array([[100,100],[10,150],[190,150]])\n",
    "pts2 = np.array([[150,200],[100,250],[125,300],[180,300],[200,250]])\n",
    "pts3 = np.array([[500,350],[380,650],[700,450],[300,450],[620,650]])\n",
    "\n",
    "dst = src.copy()\n",
    "\n",
    "src = cv2.fillPoly(dst, [pts1,pts2,pts3],(255,255,0), cv2.LINE_AA)\n",
    "\n",
    "cv2.imshow('src', src)\n",
    "cv2.waitKey()\n",
    "cv2.destroyAllWindows()"
   ]
  },
  {
   "cell_type": "code",
   "execution_count": 10,
   "metadata": {},
   "outputs": [],
   "source": [
    "## 글씨 삽입\n",
    "\n",
    "src = np.zeros((700,1000,3), dtype = np.uint8)\n",
    "\n",
    "src = cv2.putText(src, \"Yummy!\", (300,200), cv2.FONT_HERSHEY_SIMPLEX, 3,(255,255,255),3)\n",
    "\n",
    "\n",
    "cv2.imshow('src',src)\n",
    "cv2.waitKey()\n",
    "cv2.destroyAllWindows()"
   ]
  },
  {
   "cell_type": "code",
   "execution_count": 38,
   "metadata": {
    "scrolled": true
   },
   "outputs": [
    {
     "name": "stdout",
     "output_type": "stream",
     "text": [
      "0 [-1 -1  1 -1]\n",
      "1 [-1 -1  2  0]\n",
      "2 [ 8 -1  3  1]\n",
      "3 [-1 -1  4  2]\n",
      "4 [ 6 -1  5  3]\n",
      "5 [-1 -1 -1  4]\n",
      "6 [-1  4  7  3]\n",
      "7 [-1 -1 -1  6]\n",
      "8 [-1  2  9  1]\n",
      "9 [-1 -1 -1  8]\n"
     ]
    }
   ],
   "source": [
    "## 윤곽선 검출\n",
    "\n",
    "import numpy as np\n",
    "import cv2\n",
    "\n",
    "src = cv2.imread('image/contours6.png', cv2.IMREAD_COLOR)\n",
    "src2 = src.copy()\n",
    "\n",
    "gray = cv2.cvtColor(src, cv2.COLOR_BGR2GRAY)\n",
    "ret, binary = cv2.threshold(gray, 127, 255, cv2.THRESH_BINARY)\n",
    "binary = cv2.bitwise_not(binary)\n",
    "\n",
    "contours, hierarchy = cv2.findContours(binary, cv2.RETR_TREE, cv2.CHAIN_APPROX_NONE)\n",
    "\n",
    "for i in range(len(contours)):\n",
    "    cv2.drawContours(src, contours[i], -1, (0,0,255),2)\n",
    "    cv2.putText(src, str(i), contours[i][0][0],cv2.FONT_HERSHEY_COMPLEX, 1,(0,255,0),1)\n",
    "    print(i, hierarchy[0][i])\n",
    "    cv2.imshow('src', src)\n",
    "    cv2.waitKey(0)\n",
    "\n",
    "\n",
    "cv2.imshow('gray', gray)\n",
    "cv2.imshow('binary', binary)\n",
    "cv2.waitKey(0)\n",
    "cv2.destroyAllWindows()"
   ]
  },
  {
   "cell_type": "code",
   "execution_count": 27,
   "metadata": {},
   "outputs": [
    {
     "name": "stdout",
     "output_type": "stream",
     "text": [
      "(528, 1, 2)\n"
     ]
    }
   ],
   "source": [
    "print(contours[].shape)"
   ]
  },
  {
   "cell_type": "code",
   "execution_count": 2,
   "metadata": {},
   "outputs": [],
   "source": [
    "## 다각형 근사 근데 시ㅡ발 뭔말인지 못알아 먹겠음..\n",
    "\n",
    "src = cv2.imread('image/phone.png',1)\n",
    "\n",
    "gray = cv2.cvtColor(src, cv2.COLOR_BGR2GRAY)\n",
    "ret, binary = cv2.threshold(gray, 0, 255, cv2.THRESH_OTSU)\n",
    "binary = cv2.bitwise_not(binary)\n",
    "\n",
    "contours, hierarchy = cv2.findContours(binary, cv2.RETR_LIST, cv2.CHAIN_APPROX_TC89_KCOS)\n",
    "\n",
    "for contour in contours:\n",
    "    epsilon = cv2.arcLength(contour, True) * 0.02\n",
    "    approx_poly = cv2.approxPolyDP(contour, epsilon, True)\n",
    "    \n",
    "    for approx in approx_poly:\n",
    "        cv2.circle(src, tuple(approx[0]),3,(255,0,0),2)\n",
    "        \n",
    "cv2.imshow('src',src)\n",
    "cv2.waitKey(0)\n",
    "cv2.destroyAllWindows()"
   ]
  },
  {
   "cell_type": "code",
   "execution_count": 55,
   "metadata": {},
   "outputs": [],
   "source": [
    "## 코너검출 = 꼭짓점\n",
    "\n",
    "src = cv2.imread(\"image/coffee.jpg\")\n",
    "src = cv2.resize(src, dsize = (0,0), fx = 0.5, fy = 0.4, interpolation= cv2.INTER_AREA)\n",
    "dst = src.copy()\n",
    "\n",
    "gray = cv2.cvtColor(src, cv2.COLOR_BGR2GRAY)\n",
    "corners = cv2.goodFeaturesToTrack(gray, 100, 0.01, 5, useHarrisDetector=True)\n",
    "\n",
    "for i in corners:\n",
    "    cv2.circle(dst, tuple(i[0].astype(np.uint16)), 3, (0, 0, 255), 2, cv2.LINE_AA)\n",
    "    \n",
    "cv2.imshow(\"dst\", dst)\n",
    "cv2.waitKey(0)\n",
    "cv2.destroyAllWindows()"
   ]
  },
  {
   "cell_type": "code",
   "execution_count": 62,
   "metadata": {},
   "outputs": [],
   "source": [
    "## 블록껍질 = 오목한 부분을 제외하고 윤곽선 검출\n",
    "\n",
    "src = cv2.imread('image/convex.jpg')\n",
    "dst = src.copy()\n",
    "\n",
    "gray = cv2.cvtColor(src, cv2.COLOR_RGB2GRAY)\n",
    "ret, binary = cv2.threshold(gray, 150, 255, cv2.THRESH_BINARY_INV)\n",
    "contours, hierarchy = cv2.findContours(binary, cv2.RETR_TREE, cv2.CHAIN_APPROX_NONE)\n",
    "\n",
    "\n",
    "for i in contours:\n",
    "    hull = cv2.convexHull(i, clockwise=True)\n",
    "    cv2. drawContours(dst, [hull], 0, (0,0,255), 2)\n",
    "\n",
    "\n",
    "cv2.imshow(\"binary\", binary)\n",
    "cv2.imshow(\"dst\", dst)\n",
    "cv2.waitKey(0)\n",
    "cv2.destroyAllWindows()"
   ]
  },
  {
   "cell_type": "code",
   "execution_count": 6,
   "metadata": {},
   "outputs": [],
   "source": [
    "## 모멘트, 0차 모멘트부터 3차모멘트 까지 계산 1공간,중심,질량 등 계산가능\n",
    "\n",
    "\n",
    "src = cv2.imread('image/convex.jpg')\n",
    "##src = cv2.resize(src, dsize = (0,0), fx = 0.5, fy = 0.4, interpolation= cv2.INTER_AREA)\n",
    "dst = src.copy()\n",
    "\n",
    "gray = cv2.cvtColor(src, cv2.COLOR_RGB2GRAY)\n",
    "ret, binary = cv2.threshold(gray, 150, 255, cv2.THRESH_BINARY_INV)\n",
    "\n",
    "contours, hierarchy = cv2.findContours(binary, cv2.RETR_CCOMP, cv2.CHAIN_APPROX_NONE)\n",
    "\n",
    "for i in contours:\n",
    "    M = cv2.moments(i,False)\n",
    "    cX = int(M['m10'] / M['m00'])\n",
    "    cY = int(M['m01'] / M['m00'])\n",
    "    \n",
    "    cv2.circle(dst, (cX,cY),3,(255,0,0),-1)\n",
    "    cv2.drawContours(dst, [i], 0, (0,0,255),2)\n",
    "\n",
    "cv2.imshow('dst',dst)\n",
    "cv2.waitKey(0)\n",
    "cv2.destroyAllWindows()"
   ]
  },
  {
   "cell_type": "code",
   "execution_count": 11,
   "metadata": {},
   "outputs": [],
   "source": [
    "## 모폴로지 변환\n",
    "\n",
    "src = cv2.imread('image/zebra.jpg',1)\n",
    "src = cv2.resize(src, dsize=(0,0), fx = 0.3, fy = 0.3, interpolation = cv2.INTER_AREA)\n",
    "\n",
    "kernel1 = cv2.getStructuringElement(cv2.MORPH_CROSS, (4,4))\n",
    "kernel2 = cv2.getStructuringElement(cv2.MORPH_ELLIPSE, (4,4))\n",
    "kernel3 = cv2.getStructuringElement(cv2.MORPH_RECT, (4,4))\n",
    "\n",
    "\n",
    "\n",
    "dilate1 = cv2.dilate(src, kernel1, anchor=(-1,-1), iterations = 5)\n",
    "erode1 = cv2.erode(src, kernel1, anchor=(-1,-1),iterations = 5)\n",
    "dilate2 = cv2.dilate(src, kernel2, anchor=(-1,-1), iterations = 5)\n",
    "erode2 = cv2.erode(src, kernel2, anchor=(-1,-1),iterations = 5)\n",
    "dilate3 = cv2.dilate(src, kernel3, anchor=(-1,-1), iterations = 5)\n",
    "erode3 = cv2.erode(src, kernel3, anchor=(-1,-1),iterations = 5)\n",
    "\n",
    "cv2.imshow('src', src)\n",
    "cv2.imshow('erode1', erode1)\n",
    "cv2.imshow('dilate1', dilate1)\n",
    "cv2.imshow('erode2', erode2)\n",
    "cv2.imshow('dilate2', dilate2)\n",
    "cv2.imshow('erode3', erode3)\n",
    "cv2.imshow('dilate3', dilate3)\n",
    "cv2.waitKey(0)\n",
    "cv2.destroyAllWindows()"
   ]
  },
  {
   "cell_type": "code",
   "execution_count": 64,
   "metadata": {},
   "outputs": [
    {
     "name": "stdout",
     "output_type": "stream",
     "text": [
      "[[0 0 0 0 1 0 0 0 0]\n",
      " [0 0 0 0 1 0 0 0 0]\n",
      " [0 0 0 0 1 0 0 0 0]\n",
      " [0 0 0 0 1 0 0 0 0]\n",
      " [1 1 1 1 1 1 1 1 1]\n",
      " [0 0 0 0 1 0 0 0 0]\n",
      " [0 0 0 0 1 0 0 0 0]\n",
      " [0 0 0 0 1 0 0 0 0]\n",
      " [0 0 0 0 1 0 0 0 0]]\n",
      "[[0 0 0 0 1 0 0 0 0]\n",
      " [0 1 1 1 1 1 1 1 0]\n",
      " [0 1 1 1 1 1 1 1 0]\n",
      " [1 1 1 1 1 1 1 1 1]\n",
      " [1 1 1 1 1 1 1 1 1]\n",
      " [1 1 1 1 1 1 1 1 1]\n",
      " [0 1 1 1 1 1 1 1 0]\n",
      " [0 1 1 1 1 1 1 1 0]\n",
      " [0 0 0 0 1 0 0 0 0]]\n",
      "[[1 1 1 1 1 1 1 1 1]\n",
      " [1 1 1 1 1 1 1 1 1]\n",
      " [1 1 1 1 1 1 1 1 1]\n",
      " [1 1 1 1 1 1 1 1 1]\n",
      " [1 1 1 1 1 1 1 1 1]\n",
      " [1 1 1 1 1 1 1 1 1]\n",
      " [1 1 1 1 1 1 1 1 1]\n",
      " [1 1 1 1 1 1 1 1 1]\n",
      " [1 1 1 1 1 1 1 1 1]]\n"
     ]
    }
   ],
   "source": [
    "kernel1 = cv2.getStructuringElement(cv2.MORPH_CROSS, (9,9))\n",
    "kernel2 = cv2.getStructuringElement(cv2.MORPH_ELLIPSE, (9,9))\n",
    "kernel3 = cv2.getStructuringElement(cv2.MORPH_RECT, (9,9))\n",
    "\n",
    "\n",
    "print(kernel1)\n",
    "print(kernel2)\n",
    "print(kernel3)"
   ]
  },
  {
   "cell_type": "code",
   "execution_count": null,
   "metadata": {},
   "outputs": [],
   "source": [
    "## 모폴로지 연산 \n",
    "\n",
    "src = cv2.imread('image/office.jpg',1)\n",
    "src = cv2.resize(src, dsize = (0,0), fx = 0.5, fy = 0.5, interpolation = cv2.INTER_AREA)\n",
    "src = cv2.cvtColor(src, cv2.COLOR_BGR2GRAY)\n",
    "kernel = cv2.getStructuringElement(cv2.MORPH_CROSS,(5,5))\n",
    "dst = cv2.morphologyEx(src, cv2.MORPH_HITMISS, kernel, iterations = 9)\n",
    "\n",
    "cv2.imshow('src', src)\n",
    "cv2.imshow('dst', dst)\n",
    "cv2.waitKey(0)\n",
    "cv2.destroyAllWindows()"
   ]
  },
  {
   "cell_type": "code",
   "execution_count": 25,
   "metadata": {},
   "outputs": [],
   "source": [
    "## 직선 검출\n",
    "src = cv2.imread('image/road.jpg', 1)\n",
    "##src = cv2.resize(src, dsize = (0,0), fx = 0.5, fy = 0.5,interpolation = cv2.INTER_AREA)\n",
    "dst = src.copy()\n",
    "gray = cv2.cvtColor(src, cv2.COLOR_BGR2GRAY)\n",
    "canny = cv2.Canny(gray, 5000, 1500, apertureSize = 5, L2gradient = True)\n",
    "lines = cv2.HoughLines(canny, 0.8, np.pi / 180, 150, srn = 100, min_theta = 0, max_theta = np.pi)\n",
    "\n",
    "for i in lines:\n",
    "    rho, theta = i[0][0], i[0][1]\n",
    "    a, b = np.cos(theta), np.sin(theta)\n",
    "    x0, y0 = a*rho, b*rho\n",
    "    \n",
    "    scale = src.shape[0] + src.shape[1]\n",
    "    \n",
    "    x1 = int(x0 + scale * -b)\n",
    "    y1 = int(y0 + scale * a)\n",
    "    x2 = int(x0 - scale * -b)\n",
    "    y2 = int(y0 - scale * a)\n",
    "    \n",
    "    cv2.line(dst,(x1,y1),(x2,y2),(0,0,255),2)\n",
    "    cv2.circle(dst,(x0.astype(np.uint16),y0.astype(np.uint16)),3, (255,0,0), 5,cv2.FILLED)\n",
    "    ## circle 함수는 중앙점을 대입할 때 자료형이 uint16 이여야 함.\n",
    "    \n",
    "    \n",
    "cv2.imshow('canny',canny)   \n",
    "cv2.imshow('dst',dst)\n",
    "cv2.waitKey(0)\n",
    "cv2.destroyAllWindows()"
   ]
  },
  {
   "cell_type": "code",
   "execution_count": 10,
   "metadata": {},
   "outputs": [
    {
     "name": "stdout",
     "output_type": "stream",
     "text": [
      "[[[  9.2         2.0943952]]\n",
      "\n",
      " [[ -1.2         2.1118484]]\n",
      "\n",
      " [[451.6         1.134464 ]]\n",
      "\n",
      " [[448.4         1.1519173]]\n",
      "\n",
      " [[ 28.4         2.0769417]]\n",
      "\n",
      " [[ 14.8         2.0943952]]\n",
      "\n",
      " [[447.6         1.134464 ]]\n",
      "\n",
      " [[450.80002     1.1519173]]\n",
      "\n",
      " [[ 51.600002    2.042035 ]]\n",
      "\n",
      " [[ 24.4         2.0769417]]\n",
      "\n",
      " [[ 42.          2.0594885]]\n",
      "\n",
      " [[450.          1.1170107]]]\n"
     ]
    }
   ],
   "source": [
    "print(lines)"
   ]
  },
  {
   "cell_type": "code",
   "execution_count": null,
   "metadata": {},
   "outputs": [],
   "source": []
  }
 ],
 "metadata": {
  "kernelspec": {
   "display_name": "Python 3",
   "language": "python",
   "name": "python3"
  },
  "language_info": {
   "codemirror_mode": {
    "name": "ipython",
    "version": 3
   },
   "file_extension": ".py",
   "mimetype": "text/x-python",
   "name": "python",
   "nbconvert_exporter": "python",
   "pygments_lexer": "ipython3",
   "version": "3.8.5"
  }
 },
 "nbformat": 4,
 "nbformat_minor": 5
}
