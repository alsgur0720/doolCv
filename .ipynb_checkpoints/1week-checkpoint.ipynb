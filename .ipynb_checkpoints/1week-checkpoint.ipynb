{
 "cells": [
  {
   "cell_type": "code",
   "execution_count": 4,
   "metadata": {},
   "outputs": [],
   "source": [
    "import numpy as np\n",
    "import cv2\n",
    "\n",
    "\n",
    "image1 = cv2.imread(\"image/tomato.jpg\", cv2.IMREAD_COLOR)\n",
    "image2 = cv2.imread(\"image/tomato.jpg\", cv2.IMREAD_GRAYSCALE)\n",
    "image3 = cv2.imread(\"image/tomato.jpg\", cv2.IMREAD_UNCHANGED)\n",
    "\n",
    "image1 = cv2.resize(image1, dsize=(640, 480),interpolation = cv2.INTER_AREA)\n",
    "image2 = cv2.resize(image2, dsize=(640, 480),interpolation = cv2.INTER_AREA)\n",
    "image3 = cv2.resize(image3, dsize=(640, 480),interpolation = cv2.INTER_AREA)\n",
    "\n",
    "cv2.imshow('1',image1)\n",
    "cv2.imshow('2',image2)\n",
    "cv2.imshow('3',image3)\n",
    "\n",
    "cv2.waitKey(0)\n",
    "cv2.destroyAllWindows()"
   ]
  },
  {
   "cell_type": "code",
   "execution_count": 22,
   "metadata": {},
   "outputs": [
    {
     "name": "stdout",
     "output_type": "stream",
     "text": [
      "[[[0.]\n",
      "  [0.]\n",
      "  [0.]\n",
      "  [0.]\n",
      "  [0.]]\n",
      "\n",
      " [[0.]\n",
      "  [0.]\n",
      "  [0.]\n",
      "  [0.]\n",
      "  [0.]]\n",
      "\n",
      " [[0.]\n",
      "  [0.]\n",
      "  [0.]\n",
      "  [0.]\n",
      "  [0.]]\n",
      "\n",
      " [[0.]\n",
      "  [0.]\n",
      "  [0.]\n",
      "  [0.]\n",
      "  [0.]]\n",
      "\n",
      " [[0.]\n",
      "  [0.]\n",
      "  [0.]\n",
      "  [0.]\n",
      "  [0.]]]\n"
     ]
    }
   ],
   "source": [
    "zero = np.zeros((5,5,1))\n",
    "\n",
    "print(zero)"
   ]
  },
  {
   "cell_type": "code",
   "execution_count": 5,
   "metadata": {},
   "outputs": [],
   "source": [
    "src = cv2.imread('image/tomato.jpg', cv2.IMREAD_COLOR)\n",
    "\n",
    "dst = cv2.resize(src, dsize=(640, 800), interpolation = cv2.INTER_AREA)\n",
    "dst2 = cv2.resize(src, dsize=(640,800),interpolation = cv2.INTER_NEAREST)\n",
    "dst3 = cv2.resize(src, dsize=(640,800),interpolation = cv2.INTER_LINEAR)\n",
    "\n",
    "\n",
    "cv2.imshow('src',src)\n",
    "cv2.imshow(\"dst\", dst)\n",
    "cv2.imshow(\"dst2\", dst2)\n",
    "cv2.imshow(\"dst3\", dst3)\n",
    "cv2.waitKey()\n",
    "cv2.destroyAllWindows()"
   ]
  },
  {
   "cell_type": "code",
   "execution_count": 105,
   "metadata": {},
   "outputs": [],
   "source": [
    "cap1 = cv2.VideoCapture(0)\n",
    "cap1.set(cv2.CAP_PROP_FRAME_WIDTH, 200)\n",
    "cap1.set(cv2.CAP_PROP_FRAME_HEIGHT, 100)\n",
    "\n",
    "\n",
    "while cv2.waitKey(1) < 0:\n",
    "\n",
    "    ret, frame1 = cap1.read()\n",
    "    cv2.imshow(\"VideoAvi\", frame1)\n",
    "    \n",
    "cap1.release()\n",
    "cv2.destroyAllWindows()"
   ]
  },
  {
   "cell_type": "code",
   "execution_count": 110,
   "metadata": {},
   "outputs": [],
   "source": [
    "cap2 = cv2.VideoCapture('image/hhh.mp4')\n",
    "\n",
    "while cv2.waitKey(20) < 0:\n",
    "    if cap2.get(cv2.CAP_PROP_POS_FRAMES) == cap2.get(cv2.CAP_PROP_FRAME_COUNT):\n",
    "        cap2.set(cv2.CAP_PROP_POS_FRAMES, 0)\n",
    "        \n",
    "    ret, frame2 = cap2.read()\n",
    "    cv2.imshow(\"videoCam\", frame2)\n",
    "    \n",
    "cap2.release()\n",
    "cv2.destroyAllWindows()"
   ]
  },
  {
   "cell_type": "code",
   "execution_count": 29,
   "metadata": {},
   "outputs": [],
   "source": [
    "src = cv2.imread('image/tomato.jpg', cv2.IMREAD_COLOR)\n",
    "src = cv2.resize(src, dsize=(640, 800), interpolation = cv2.INTER_AREA)\n",
    "dst = cv2.flip(src, -1)\n",
    "\n",
    "cv2.imshow('src',src)\n",
    "cv2.imshow('dst',dst)\n",
    "\n",
    "cv2.waitKey()\n",
    "cv2.destroyAllWindows()"
   ]
  },
  {
   "cell_type": "code",
   "execution_count": 86,
   "metadata": {},
   "outputs": [],
   "source": [
    "src = cv2.imread('image/tomato.jpg', cv2.IMREAD_COLOR)\n",
    "src = cv2.resize(src, dsize=(640, 800), interpolation = cv2.INTER_AREA)\n",
    "height, width, channel = src.shape\n",
    "\n",
    "\n",
    "matrix = cv2.getRotationMatrix2D((width/2,height/2), 270, 0.5) ## 행렬의 형태는 2x3\n",
    "dst = cv2.warpAffine(src, matrix, (width, height), borderMode = cv2.BORDER_CONSTANT, borderValue = (0,0,255)) ##width,height 대신 0,0도 가능\n",
    "\n",
    "\n",
    "cv2.imshow('src', src)\n",
    "cv2.imshow('dst', dst)\n",
    "cv2.waitKey()\n",
    "cv2.destroyAllWindows()"
   ]
  },
  {
   "cell_type": "code",
   "execution_count": 113,
   "metadata": {},
   "outputs": [],
   "source": [
    "src = cv2.imread(\"image/tomato.jpg\", cv2.IMREAD_COLOR)\n",
    "src = cv2.resize(src, dsize=(640, 480), interpolation = cv2.INTER_AREA)\n",
    "dst = src[100:400, 0:300].copy()\n",
    "\n",
    "\n",
    "cv2.imshow(\"src\", src)\n",
    "cv2.imshow(\"dst\", dst)\n",
    "cv2.waitKey()\n",
    "cv2.destroyAllWindows()"
   ]
  },
  {
   "cell_type": "code",
   "execution_count": 114,
   "metadata": {},
   "outputs": [],
   "source": [
    "src = cv2.imread('image/tomato.jpg', cv2.IMREAD_COLOR)\n",
    "src = cv2.resize(src, dsize=(640, 480),interpolation = cv2.INTER_AREA)\n",
    "\n",
    "dst = src.copy()\n",
    "roi = src[50:250, 100:300]\n",
    "dst[0:200, 0:200] = roi\n",
    "cv2.imshow(\"src\", src)\n",
    "cv2.imshow(\"dst\", dst)\n",
    "cv2.imshow('roi', roi)\n",
    "cv2.waitKey()\n",
    "cv2.destroyAllWindows()"
   ]
  },
  {
   "cell_type": "code",
   "execution_count": 121,
   "metadata": {},
   "outputs": [],
   "source": [
    "src = cv2.imread('image/tomato.jpg',cv2.IMREAD_COLOR)\n",
    "src = cv2.resize(src, dsize=(640, 480),interpolation = cv2.INTER_AREA)\n",
    "dst = cv2.cvtColor(src, cv2.COLOR_BGR2GRAY)\n",
    "\n",
    "cv2.imshow(\"src\", src)\n",
    "cv2.imshow(\"dst\", dst)\n",
    "cv2.waitKey()\n",
    "cv2.destroyAllWindows()"
   ]
  },
  {
   "cell_type": "code",
   "execution_count": 142,
   "metadata": {},
   "outputs": [],
   "source": [
    "src = cv2.imread('image/tomato.jpg',cv2.IMREAD_COLOR)\n",
    "src = cv2.resize(src, dsize=(640, 480),interpolation = cv2.INTER_AREA)\n",
    "dst = cv2.bitwise_not(src)\n",
    "\n",
    "cv2.imshow(\"src\", src)\n",
    "cv2.imshow(\"dst\", dst)\n",
    "cv2.waitKey()\n",
    "cv2.destroyAllWindows()"
   ]
  },
  {
   "cell_type": "code",
   "execution_count": 140,
   "metadata": {},
   "outputs": [],
   "source": [
    "src = cv2.imread('image/tomato.jpg',1)\n",
    "src = cv2.resize(src, dsize=(640, 480),interpolation = cv2.INTER_AREA)\n",
    "hsv = cv2.cvtColor(src,cv2.COLOR_BGR2HSV)\n",
    "h, s, v = cv2.split(hsv)\n",
    "\n",
    "h = cv2.inRange(h,8,20)\n",
    "orange = cv2.bitwise_not(hsv, hsv)\n",
    "orange = cv2.cvtColor(orange, cv2.COLOR_HSV2BGR)\n",
    "\n",
    "cv2.imshow(\"orange\", orange)\n",
    "cv2.waitKey()\n",
    "cv2.destroyAllWindows()"
   ]
  },
  {
   "cell_type": "code",
   "execution_count": null,
   "metadata": {},
   "outputs": [],
   "source": []
  }
 ],
 "metadata": {
  "kernelspec": {
   "display_name": "Python 3",
   "language": "python",
   "name": "python3"
  },
  "language_info": {
   "codemirror_mode": {
    "name": "ipython",
    "version": 3
   },
   "file_extension": ".py",
   "mimetype": "text/x-python",
   "name": "python",
   "nbconvert_exporter": "python",
   "pygments_lexer": "ipython3",
   "version": "3.8.5"
  }
 },
 "nbformat": 4,
 "nbformat_minor": 5
}
