{
 "cells": [
  {
   "cell_type": "code",
   "execution_count": null,
   "metadata": {},
   "outputs": [],
   "source": [
    "import numpy as np\n",
    "import cv2"
   ]
  },
  {
   "cell_type": "code",
   "execution_count": null,
   "metadata": {},
   "outputs": [],
   "source": [
    "src = cv2.imread('image/tomato.jpg', cv2.IMREAD_COLOR)\n",
    "src = cv2.resize(src, dsize=(640, 480))\n",
    "hsv = cv2.cvtColor(src, cv2.COLOR_BGR2HSV)\n",
    "h, s, v = cv2.split(hsv)\n",
    "\n",
    "lower_red = cv2.inRange(hsv, (0, 100, 100), (5, 255, 255))\n",
    "upper_red = cv2.inRange(hsv, (170,100,100),(180,255,255))\n",
    "added_red = cv2.addWeighted(lower_red,1.0,upper_red,1.0,0.0)\n",
    "\n",
    "red = cv2.bitwise_and(hsv, hsv, mask = added_red)\n",
    "red = cv2.cvtColor(red, cv2.COLOR_HSV2BGR)\n",
    "\n",
    "cv2.imshow(\"red\", red)\n",
    "cv2.waitKey()\n",
    "cv2.destroyAllWindows()"
   ]
  },
  {
   "cell_type": "code",
   "execution_count": null,
   "metadata": {},
   "outputs": [],
   "source": [
    "src = cv2.imread('image/abc.jpg',1)\n",
    "src = cv2.resize(src, dsize=(640, 480))\n",
    "b, g, r = cv2.split(src)\n",
    "inverse = cv2.merge((r,g,b))\n",
    "\n",
    "height, width, channel = src.shape\n",
    "zero = np.zeros((height, width, 1), dtype=np.uint8)\n",
    "bgz = cv2.merge((b,g,zero))\n",
    "\n",
    "cv2.imshow('bgz',bgz)\n",
    "cv2.imshow('src', src)\n",
    "cv2.imshow(\"b\", b)\n",
    "cv2.imshow(\"g\", g)\n",
    "cv2.imshow(\"r\", r)\n",
    "cv2.imshow(\"inverse\", inverse)\n",
    "cv2.waitKey()\n",
    "cv2.destroyAllWindows()"
   ]
  },
  {
   "cell_type": "code",
   "execution_count": null,
   "metadata": {},
   "outputs": [],
   "source": [
    "src = np.zeros((768,1366,3), dtype=np.uint8)\n",
    "print(src[:,:,0])\n",
    "\n",
    "src = cv2.line(src,(100,100),(1200,100),(0,0,255),3,cv2.LINE_AA)\n",
    "src = cv2.circle(src,(300,300), 50, (0,255,0),cv2.FILLED, cv2.LINE_4)\n",
    "src = cv2.rectangle(src,(500,200),(1000,400),(255,0,0),5,cv2.LINE_8)\n",
    "src = cv2.ellipse(src, (1200,300),(100,50),0,90,180,(255,255,0),2)\n",
    "\n",
    "pts1 = np.array([[100,500],[300,500],[200,600]])\n",
    "pts2 = np.array([[600,500],[800,500],[700,600]])\n",
    "src = cv2.polylines(src, [pts1], False, (0,255,255),2)\n",
    "src = cv2.fillPoly(src, [pts2], (255,0,255),cv2.LINE_AA)\n",
    "\n",
    "src = cv2.putText(src, \"Yummy!\", (900,600), cv2.FONT_HERSHEY_COMPLEX, 2, (255,255,255),3)\n",
    "cv2.imshow(\"src\", src)\n",
    "cv2.waitKey()\n",
    "cv2.destroyAllWindows()"
   ]
  },
  {
   "cell_type": "code",
   "execution_count": null,
   "metadata": {},
   "outputs": [],
   "source": [
    "src = cv2.imread('image/harvest.jpg', cv2.IMREAD_COLOR)\n",
    "src = cv2.resize(src, dsize=(640, 480))\n",
    "height, width, channel = src.shape\n",
    "\n",
    "srcPoint = np.array([[300,200],[400,200],[500,500],[200,500]],dtype=np.float32)\n",
    "dstPoint = np.array([[0,0],[width,0],[width,height],[0,height]], dtype = np.float32)\n",
    "\n",
    "matrix = cv2.getPerspectiveTransform(srcPoint, dstPoint)\n",
    "dst = cv2.warpPerspective(src, matrix, (width, height))\n",
    "\n",
    "cv2.imshow(\"src\", src)\n",
    "cv2.imshow(\"dst\", dst)\n",
    "cv2.waitKey()\n",
    "cv2.destroyAllWindows()"
   ]
  },
  {
   "cell_type": "code",
   "execution_count": 1,
   "metadata": {},
   "outputs": [
    {
     "name": "stdout",
     "output_type": "stream",
     "text": [
      "녹화시작\n",
      "녹화 중..\n",
      "녹화 중..\n",
      "녹화 중..\n",
      "녹화 중..\n",
      "녹화 중..\n",
      "녹화 중..\n",
      "녹화 중..\n",
      "녹화 중..\n",
      "녹화 중..\n",
      "녹화 중..\n",
      "녹화 중..\n",
      "녹화 중..\n",
      "녹화 중..\n",
      "녹화 중..\n",
      "녹화 중..\n",
      "녹화 중..\n",
      "녹화 중..\n",
      "녹화 중..\n",
      "녹화 중..\n",
      "녹화 중..\n",
      "녹화 중..\n",
      "녹화 중..\n",
      "녹화 중..\n",
      "녹화 중..\n",
      "녹화 중..\n",
      "녹화 중..\n",
      "녹화 중..\n",
      "녹화 중..\n",
      "녹화 중지\n"
     ]
    }
   ],
   "source": [
    "import datetime\n",
    "import cv2\n",
    "\n",
    "capture = cv2.VideoCapture(\"Image/hhh2.mp4\")\n",
    "fourcc = cv2.VideoWriter_fourcc(*'XVID')\n",
    "record = False\n",
    "\n",
    "while True:\n",
    "    \n",
    "    if(capture.get(cv2.CAP_PROP_POS_FRAMES) == capture.get(cv2.CAP_PROP_FRAME_COUNT)):\n",
    "        capture.open(\"Image/hhh2.mp4\")\n",
    "\n",
    "    ret, frame = capture.read()\n",
    "    cv2.imshow(\"VideoFrame\", frame)\n",
    "    \n",
    "    now = datetime.datetime.now().strftime('%d_%H-%M-%S')\n",
    "    key = cv2.waitKey(33)\n",
    "    \n",
    "    if key == 27:\n",
    "        break;\n",
    "    elif key == 26:\n",
    "        print('캡쳐')\n",
    "        cv2.imwrite('image/' + str(now) + \".png\", frame)\n",
    "    elif key == 24:\n",
    "        print('녹화시작')\n",
    "        record = True\n",
    "        video = cv2.VideoWriter('image/' + str(now) + '.avi', fourcc, 20.0,(frame.shape[1], frame.shape[0]))\n",
    "    elif key == 22:\n",
    "        print(\"녹화 중지\")\n",
    "        record = False\n",
    "        video.release()\n",
    "    \n",
    "    if record == True:\n",
    "        print('녹화 중..')\n",
    "        video.write(frame)\n",
    "    \n",
    "capture.release()\n",
    "cv2.destroyAllWindows()"
   ]
  },
  {
   "cell_type": "code",
   "execution_count": null,
   "metadata": {},
   "outputs": [],
   "source": [
    "import cv2\n",
    "\n",
    "img = cv2.imread('image/tomato.jpg', 1)\n",
    "cv2.imshow('img', img) \n",
    "\n",
    "key = cv2.waitKey(0)\n",
    "print(key)"
   ]
  },
  {
   "cell_type": "code",
   "execution_count": 8,
   "metadata": {},
   "outputs": [
    {
     "name": "stdout",
     "output_type": "stream",
     "text": [
      "0 [ 2 -1  1 -1]\n",
      "1 [-1 -1 -1  0]\n",
      "2 [ 4  0  3 -1]\n",
      "3 [-1 -1 -1  2]\n",
      "4 [ 7  2  5 -1]\n",
      "5 [ 6 -1 -1  4]\n",
      "6 [-1  5 -1  4]\n",
      "7 [ 9  4  8 -1]\n",
      "8 [-1 -1 -1  7]\n",
      "9 [16  7 10 -1]\n",
      "10 [11 -1 -1  9]\n",
      "11 [12 10 -1  9]\n",
      "12 [13 11 -1  9]\n",
      "13 [14 12 -1  9]\n",
      "14 [15 13 -1  9]\n",
      "15 [-1 14 -1  9]\n",
      "16 [21  9 17 -1]\n",
      "17 [18 -1 -1 16]\n",
      "18 [19 17 -1 16]\n",
      "19 [20 18 -1 16]\n",
      "20 [-1 19 -1 16]\n",
      "21 [28 16 22 -1]\n",
      "22 [23 -1 -1 21]\n",
      "23 [24 22 -1 21]\n",
      "24 [25 23 -1 21]\n",
      "25 [26 24 -1 21]\n",
      "26 [27 25 -1 21]\n",
      "27 [-1 26 -1 21]\n",
      "28 [-1 21 -1 -1]\n"
     ]
    }
   ],
   "source": [
    "src = cv2.imread('image/counters.jpg', cv2.IMREAD_COLOR)\n",
    "\n",
    "gray = cv2.cvtColor(src, cv2.COLOR_RGB2GRAY)\n",
    "ret, binary = cv2.threshold(gray, 127, 255, cv2.THRESH_BINARY)\n",
    "binary = cv2.bitwise_not(binary)\n",
    "\n",
    "contours, hierarchy = cv2.findContours(binary, cv2.RETR_CCOMP, cv2.CHAIN_APPROX_NONE)\n",
    "\n",
    "for i in range(len(contours)):\n",
    "    cv2.drawContours(src, [contours[i]],0,(0,0,255),1)\n",
    "    cv2.putText(src, str(i), tuple(contours[i][0][0]), cv2.FONT_HERSHEY_COMPLEX,0.8,(0,255,0),2)\n",
    "    print(i, hierarchy[0][i])\n",
    "    cv2.imshow('src', src)\n",
    "    cv2.waitKey(0)\n",
    "    \n",
    "cv2.destroyAllWindows()"
   ]
  },
  {
   "cell_type": "code",
   "execution_count": null,
   "metadata": {},
   "outputs": [],
   "source": []
  }
 ],
 "metadata": {
  "kernelspec": {
   "display_name": "Python 3",
   "language": "python",
   "name": "python3"
  },
  "language_info": {
   "codemirror_mode": {
    "name": "ipython",
    "version": 3
   },
   "file_extension": ".py",
   "mimetype": "text/x-python",
   "name": "python",
   "nbconvert_exporter": "python",
   "pygments_lexer": "ipython3",
   "version": "3.8.5"
  }
 },
 "nbformat": 4,
 "nbformat_minor": 5
}
