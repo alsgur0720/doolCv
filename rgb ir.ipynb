{
 "cells": [
  {
   "cell_type": "code",
   "execution_count": 5,
   "id": "c1989829",
   "metadata": {},
   "outputs": [],
   "source": [
    "## ORB 알고리즘(Oriented fast and Rotated Brief)\n",
    "import cv2 \n",
    "import numpy as np\n",
    "\n",
    "\n",
    "src = cv2.imread('image/rgb-1.jpg', 1)\n",
    "src = cv2.resize(src, dsize = (0,0), fx = 0.5, fy = 0.5)\n",
    "\n",
    "gray = cv2.cvtColor(src, cv2.COLOR_BGR2GRAY)\n",
    "\n",
    "target = cv2.imread('image/ir-1.jpg', 0)\n",
    "\n",
    "\n",
    "orb = cv2.ORB_create()\n",
    "\n",
    "kp1, des1 = orb.detectAndCompute(gray, None)\n",
    "kp2, des2 = orb.detectAndCompute(target, None)\n",
    "\n",
    "bf = cv2.BFMatcher(cv2.NORM_HAMMING2, crossCheck=True)\n",
    "matches = bf.match(des1,des2)\n",
    "matches = sorted(matches, key = lambda x: x.distance)\n",
    "\n",
    "for i in matches[:100]:\n",
    "    idx_des1 = i.queryIdx\n",
    "    x1, y1, =  kp1[idx_des1].pt\n",
    "    \n",
    "    idx_des2 = i.trainIdx\n",
    "    x2, y2, =  kp2[idx_des2].pt\n",
    "    \n",
    "    cv2.circle(src, (int(x1), int(y1)), 3, (0, 0, 0), 3)\n",
    "    cv2.circle(target, (int(x2), int(y2)), 3, (255, 0, 0), 3)\n",
    "    \n",
    "    \n",
    "cv2.imshow('target', target)\n",
    "cv2.imshow('src', src)\n",
    "cv2.waitKey(0)\n",
    "cv2.destroyAllWindows()"
   ]
  },
  {
   "cell_type": "code",
   "execution_count": 6,
   "id": "e1d1b2d0",
   "metadata": {},
   "outputs": [
    {
     "name": "stdout",
     "output_type": "stream",
     "text": [
      "[<DMatch 0000017E96FE68D0>, <DMatch 0000017E93AEC8D0>, <DMatch 0000017E952D0BD0>, <DMatch 0000017E96FE6570>, <DMatch 0000017E96FE6F70>, <DMatch 0000017E93AECFD0>, <DMatch 0000017E96FE6F30>, <DMatch 0000017E93AECC50>, <DMatch 0000017E93AEC930>, <DMatch 0000017E93AECD50>, <DMatch 0000017E93AEC810>, <DMatch 0000017E96FE62D0>, <DMatch 0000017E96FE61B0>, <DMatch 0000017E93AECBF0>, <DMatch 0000017E93AECDD0>, <DMatch 0000017E96FE6AF0>, <DMatch 0000017E96FE6790>, <DMatch 0000017E93AEC990>, <DMatch 0000017E93AEC870>, <DMatch 0000017E93AEC8B0>, <DMatch 0000017E93AEC9F0>, <DMatch 0000017E96FE6BD0>, <DMatch 0000017E93AECA70>, <DMatch 0000017E93AECED0>, <DMatch 0000017E952D0F70>, <DMatch 0000017E93AEC8F0>, <DMatch 0000017E93AECA10>, <DMatch 0000017E96FE62B0>, <DMatch 0000017E96FE6B90>, <DMatch 0000017E96FE6A90>, <DMatch 0000017E96FE4E30>, <DMatch 0000017E96FE63F0>, <DMatch 0000017E96FE41F0>, <DMatch 0000017E96FE4090>, <DMatch 0000017E93AECB90>, <DMatch 0000017E93AECB70>, <DMatch 0000017E93AECBB0>, <DMatch 0000017E93AECBD0>, <DMatch 0000017E93AEC7F0>, <DMatch 0000017E96FE6CD0>, <DMatch 0000017E96FE6130>, <DMatch 0000017E93AECCD0>, <DMatch 0000017E93AECAD0>, <DMatch 0000017E93AECF70>, <DMatch 0000017E96FE6950>, <DMatch 0000017E96FE6030>, <DMatch 0000017E96FE6270>, <DMatch 0000017E96FE6530>, <DMatch 0000017E96FE6650>, <DMatch 0000017E93AEC890>, <DMatch 0000017E93AECAB0>, <DMatch 0000017E93AECE70>, <DMatch 0000017E93AECF90>, <DMatch 0000017E93AECA50>, <DMatch 0000017E96FE6550>, <DMatch 0000017E93AECF30>, <DMatch 0000017E96FE6C30>, <DMatch 0000017E96FE6B10>, <DMatch 0000017E96FE6FD0>, <DMatch 0000017E93AEC7D0>, <DMatch 0000017E93AECF10>, <DMatch 0000017E96FE6670>, <DMatch 0000017E96FE6E70>, <DMatch 0000017E96FE6C50>, <DMatch 0000017E96FE6830>, <DMatch 0000017E93AECC30>, <DMatch 0000017E93AEC770>, <DMatch 0000017E93AECD30>, <DMatch 0000017E93AECDF0>, <DMatch 0000017E96FE65F0>, <DMatch 0000017E96FE6C90>, <DMatch 0000017E96FE6ED0>, <DMatch 0000017E96FE66F0>, <DMatch 0000017E93AEC970>, <DMatch 0000017E96FE6D10>, <DMatch 0000017E96FE6C70>, <DMatch 0000017E96FE6E10>, <DMatch 0000017E96FE60F0>, <DMatch 0000017E96FE6330>, <DMatch 0000017E93AECAF0>, <DMatch 0000017E93AECC70>, <DMatch 0000017E93AECCF0>, <DMatch 0000017E93AECEF0>, <DMatch 0000017E96FE6F90>, <DMatch 0000017E96FE6890>, <DMatch 0000017E96FE6610>, <DMatch 0000017E96FE60B0>, <DMatch 0000017E96FE67B0>, <DMatch 0000017E96FE6C10>, <DMatch 0000017E93AECB50>, <DMatch 0000017E93AECA30>, <DMatch 0000017E96FE6930>, <DMatch 0000017E96FE6290>, <DMatch 0000017E96FE64F0>, <DMatch 0000017E96FE6470>, <DMatch 0000017E96FE6BF0>, <DMatch 0000017E96FE6AD0>, <DMatch 0000017E96FE69D0>, <DMatch 0000017E952D0ED0>, <DMatch 0000017E93AECD70>, <DMatch 0000017E93AEC950>, <DMatch 0000017E93AEC9B0>, <DMatch 0000017E96FE6B70>, <DMatch 0000017E96FE6090>, <DMatch 0000017E96FE6BB0>, <DMatch 0000017E96FE68F0>, <DMatch 0000017E96FE6590>, <DMatch 0000017E96FE6A30>, <DMatch 0000017E96FE6410>, <DMatch 0000017E93AECE50>, <DMatch 0000017E93AECEB0>, <DMatch 0000017E93AECCB0>, <DMatch 0000017E96FE6B50>, <DMatch 0000017E96FE6730>, <DMatch 0000017E96FE61F0>, <DMatch 0000017E96FE6EF0>, <DMatch 0000017E93AECDB0>, <DMatch 0000017E93AECFB0>, <DMatch 0000017E93AECE10>, <DMatch 0000017E96FE6810>, <DMatch 0000017E93AECC10>, <DMatch 0000017E96FE61D0>, <DMatch 0000017E96FE6070>, <DMatch 0000017E96FE69F0>, <DMatch 0000017E96FE6D50>, <DMatch 0000017E96FE6CF0>, <DMatch 0000017E93AECE30>, <DMatch 0000017E93AECC90>, <DMatch 0000017E96FE68B0>, <DMatch 0000017E96FE6350>, <DMatch 0000017E96FE6230>, <DMatch 0000017E93AECE90>, <DMatch 0000017E952D0DD0>, <DMatch 0000017E93AECB10>, <DMatch 0000017E96FE6450>, <DMatch 0000017E96FE6DF0>, <DMatch 0000017E93AECD90>, <DMatch 0000017E96FE6A50>, <DMatch 0000017E93AECD10>, <DMatch 0000017E93AECF50>]\n"
     ]
    }
   ],
   "source": [
    "print(matches)"
   ]
  },
  {
   "cell_type": "code",
   "execution_count": 15,
   "id": "e80fa9e3",
   "metadata": {},
   "outputs": [
    {
     "name": "stdout",
     "output_type": "stream",
     "text": [
      "# of kp1: 500\n",
      "# of kp2: 421\n",
      "# of matches: 500\n",
      "# of good_matches: 100\n"
     ]
    }
   ],
   "source": [
    "# 영상 불러오기\n",
    "import sys\n",
    "\n",
    "src1 = cv2.imread('image/rgb-1.jpg', cv2.IMREAD_GRAYSCALE)\n",
    "src1 = cv2.resize(src1, dsize = (0,0), fx = 0.5, fy = 0.5)\n",
    "src2 = cv2.imread('image/ir-1.jpg', cv2.IMREAD_GRAYSCALE)\n",
    "src2 = cv2.resize(src2, dsize = (0,0), fx = 0.5, fy = 0.5)\n",
    "\n",
    "if src1 is None or src2 is None:\n",
    "    print('Image load failed!')\n",
    "    sys.exit()\n",
    "\n",
    "# 특징점 알고리즘 객체 생성 (KAZE, AKAZE, ORB 등)\n",
    "#feature = cv2.KAZE_create() # 기본값인 L2놈 이용\n",
    "#feature = cv2.AKAZE_create()\n",
    "feature = cv2.ORB_create()\n",
    "\n",
    "# 특징점 검출 및 기술자 계산\n",
    "kp1, desc1 = feature.detectAndCompute(src1, None)\n",
    "kp2, desc2 = feature.detectAndCompute(src2, None)\n",
    "\n",
    "# 특징점 매칭\n",
    "matcher = cv2.BFMatcher_create()\n",
    "matches = matcher.match(desc1, desc2)\n",
    "\n",
    "# 좋은 매칭 결과 선별\n",
    "matches = sorted(matches, key=lambda x: x.distance)\n",
    "good_matches = matches[:100]\n",
    "\n",
    "print('# of kp1:', len(kp1))\n",
    "print('# of kp2:', len(kp2))\n",
    "print('# of matches:', len(matches))\n",
    "print('# of good_matches:', len(good_matches))\n",
    "\n",
    "# 호모그래피 계산\n",
    "# DMatch 객체에서 queryIdx와 trainIdx를 받아와서 크기와 타입 변환하기\n",
    "pts1 = np.array([kp1[m.queryIdx].pt for m in good_matches]).reshape(-1, 1, 2).astype(np.float32)\n",
    "pts2 = np.array([kp1[m.trainIdx].pt for m in good_matches]).reshape(-1, 1, 2).astype(np.float32)\n",
    "                \n",
    "H, _ = cv2.findHomography(pts1, pts2, cv2.RANSAC) # pts1과 pts2의 행렬 주의 (N,1,2)\n",
    "\n",
    "# 호모그래피를 이용하여 기준 영상 영역 표시\n",
    "dst = cv2.drawMatches(src1, kp1, src2, kp2, good_matches, None,\n",
    "                      flags=cv2.DrawMatchesFlags_NOT_DRAW_SINGLE_POINTS)\n",
    "\n",
    "(h, w) = src1.shape[:2]\n",
    "\n",
    "# 입력 영상의 모서리 4점 좌표\n",
    "corners1 = np.array([[0, 0], [0, h-1], [w-1, h-1], [w-1, 0]]\n",
    "                    ).reshape(-1, 1, 2).astype(np.float32)\n",
    "\n",
    "# 입력 영상에 호모그래피 H 행렬로 투시 변환\n",
    "corners2 = cv2.perspectiveTransform(corners1, H)\n",
    "\n",
    "# corners2는 입력 영상에 좌표가 표현되있으므로 입력영상의 넓이 만큼 쉬프트\n",
    "corners2 = corners2 + np.float32([w, 0])\n",
    "\n",
    "# 다각형 그리기\n",
    "cv2.polylines(dst, [np.int32(corners2)], True, (0, 255, 0), 2, cv2.LINE_AA)\n",
    "\n",
    "cv2.imshow('dst', dst)\n",
    "cv2.waitKey()\n",
    "cv2.destroyAllWindows()"
   ]
  },
  {
   "cell_type": "code",
   "execution_count": null,
   "id": "52e4d80e",
   "metadata": {},
   "outputs": [],
   "source": []
  }
 ],
 "metadata": {
  "kernelspec": {
   "display_name": "Python 3 (ipykernel)",
   "language": "python",
   "name": "python3"
  },
  "language_info": {
   "codemirror_mode": {
    "name": "ipython",
    "version": 3
   },
   "file_extension": ".py",
   "mimetype": "text/x-python",
   "name": "python",
   "nbconvert_exporter": "python",
   "pygments_lexer": "ipython3",
   "version": "3.9.7"
  }
 },
 "nbformat": 4,
 "nbformat_minor": 5
}
