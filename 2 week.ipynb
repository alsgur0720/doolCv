{
 "cells": [
  {
   "cell_type": "code",
   "execution_count": 1,
   "id": "31ca4cc9",
   "metadata": {},
   "outputs": [],
   "source": [
    "import numpy as np\n",
    "import cv2"
   ]
  },
  {
   "cell_type": "code",
   "execution_count": null,
   "id": "2277205a",
   "metadata": {},
   "outputs": [],
   "source": [
    "## 윤곽선 검출\n",
    "\n",
    "import numpy as np\n",
    "import cv2\n",
    "\n",
    "src = cv2.imread('image/contours4.png', cv2.IMREAD_COLOR)\n",
    "src2 = src.copy()\n",
    "\n",
    "gray = cv2.cvtColor(src, cv2.COLOR_BGR2GRAY)\n",
    "ret, binary = cv2.threshold(gray, 127, 255, cv2.THRESH_BINARY)\n",
    "binary = cv2.bitwise_not(binary)\n",
    "\n",
    "contours, hierarchy = cv2.findContours(binary, cv2.RETR_TREE, cv2.CHAIN_APPROX_TC89_L1)\n",
    "\n",
    "for i in range(len(contours)):\n",
    "    cv2.drawContours(src, [contours[i]], 0, (0,0,255),2)\n",
    "    cv2.putText(src, str(i), tuple(contours[i][0][0]),cv2.FONT_HERSHEY_COMPLEX, 0.8,(0,255,0),1)\n",
    "    print(i, hierarchy[0][i])\n",
    "    cv2.imshow('src', src)\n",
    "    cv2.waitKey(0)\n",
    "\n",
    "print(type(contours))\n",
    "## cv2.imshow('contours', contours)\n",
    "cv2.imshow('gray', gray)\n",
    "cv2.imshow('binary', binary)\n",
    "cv2.waitKey(0)\n",
    "cv2.destroyAllWindows()"
   ]
  },
  {
   "cell_type": "code",
   "execution_count": 60,
   "id": "004cd9be",
   "metadata": {},
   "outputs": [],
   "source": [
    "## 다각형 근사 근데 시ㅡ발 뭔말인지 못알아 먹겠음..\n",
    "\n",
    "src = cv2.imread('image/phone.png',1)\n",
    "\n",
    "gray = cv2.cvtColor(src, cv2.COLOR_BGR2GRAY)\n",
    "ret, binary = cv2.threshold(gray, 0, 255, cv2.THRESH_OTSU)\n",
    "binary = cv2.bitwise_not(binary)\n",
    "\n",
    "contours, hierarchy = cv2.findContours(binary, cv2.RETR_LIST, cv2.CHAIN_APPROX_TC89_KCOS)\n",
    "\n",
    "for contour in contours:\n",
    "    epsilon = cv2.arcLength(contour, True) * 0.02\n",
    "    approx_poly = cv2.approxPolyDP(contour, epsilon, True)\n",
    "    \n",
    "    for approx in approx_poly:\n",
    "        cv2.circle(src, tuple(approx[0]),3,(255,0,0),2)\n",
    "        \n",
    "cv2.imshow('src',src)\n",
    "cv2.waitKey(0)\n",
    "cv2.destroyAllWindows()"
   ]
  },
  {
   "cell_type": "code",
   "execution_count": 39,
   "id": "3e2958e2",
   "metadata": {},
   "outputs": [],
   "source": [
    "## 코너검출 = 꼭짓점\n",
    "\n",
    "src = cv2.imread(\"image/coffee.jpg\")\n",
    "src = cv2.resize(src, dsize = (0,0), fx = 0.5, fy = 0.4, interpolation= cv2.INTER_AREA)\n",
    "dst = src.copy()\n",
    "\n",
    "gray = cv2.cvtColor(src, cv2.COLOR_BGR2GRAY)\n",
    "corners = cv2.goodFeaturesToTrack(gray, 100, 0.01, 5, blockSize=3, useHarrisDetector=True, k=0.03)\n",
    "\n",
    "for i in corners:\n",
    "    cv2.circle(dst, tuple(i[0].astype(np.uint16)), 3, (0, 0, 255), 2, cv2.LINE_AA)\n",
    "    \n",
    "cv2.imshow(\"dst\", dst)\n",
    "cv2.waitKey(0)\n",
    "cv2.destroyAllWindows()"
   ]
  },
  {
   "cell_type": "code",
   "execution_count": 56,
   "id": "deac2a1f",
   "metadata": {},
   "outputs": [],
   "source": [
    "## 블록껍질 = 볼록한 부분을 제외하고 윤곽선 검출\n",
    "\n",
    "src = cv2.imread('image/convex.jpg')\n",
    "dst = src.copy()\n",
    "\n",
    "gray = cv2.cvtColor(src, cv2.COLOR_RGB2GRAY)\n",
    "ret, binary = cv2.threshold(gray, 150, 255, cv2.THRESH_BINARY_INV)\n",
    "\n",
    "contours, hierarchy = cv2.findContours(binary, cv2.RETR_CCOMP, cv2.CHAIN_APPROX_NONE)\n",
    "\n",
    "\n",
    "for i in contours:\n",
    "    hull = cv2.convexHull(i, clockwise=True)\n",
    "    cv2. drawContours(dst, [hull], 0, (0,0,255), 2)\n",
    "\n",
    "\n",
    "cv2.imshow(\"binary\", binary)\n",
    "cv2.imshow(\"dst\", dst)\n",
    "cv2.waitKey(0)\n",
    "cv2.destroyAllWindows()"
   ]
  },
  {
   "cell_type": "code",
   "execution_count": 59,
   "id": "6b8005f2",
   "metadata": {},
   "outputs": [],
   "source": [
    "## 모멘트, 0차 모멘트부터 3차모멘트 까지 계산 1공간,중심,질량 등 계산가능\n",
    "\n",
    "\n",
    "src = cv2.imread('image/convex.jpg')\n",
    "##src = cv2.resize(src, dsize = (0,0), fx = 0.5, fy = 0.4, interpolation= cv2.INTER_AREA)\n",
    "dst = src.copy()\n",
    "\n",
    "gray = cv2.cvtColor(src, cv2.COLOR_RGB2GRAY)\n",
    "ret, binary = cv2.threshold(gray, 150, 255, cv2.THRESH_BINARY_INV)\n",
    "\n",
    "contours, hierarchy = cv2.findContours(binary, cv2.RETR_CCOMP, cv2.CHAIN_APPROX_NONE)\n",
    "\n",
    "for i in contours:\n",
    "    M = cv2.moments(i,False)\n",
    "    cX = int(M['m10'] / M['m00'])\n",
    "    cY = int(M['m01'] / M['m00'])\n",
    "    \n",
    "    cv2.circle(dst, (cX,cY),3,(255,0,0),-1)\n",
    "    cv2.drawContours(dst, [i], 0, (0,0,255),2)\n",
    "\n",
    "cv2.imshow('dst',dst)\n",
    "cv2.waitKey(0)\n",
    "cv2.destroyAllWindows()"
   ]
  },
  {
   "cell_type": "code",
   "execution_count": null,
   "id": "98cd2ec5",
   "metadata": {},
   "outputs": [],
   "source": []
  }
 ],
 "metadata": {
  "kernelspec": {
   "display_name": "Python 3 (ipykernel)",
   "language": "python",
   "name": "python3"
  },
  "language_info": {
   "codemirror_mode": {
    "name": "ipython",
    "version": 3
   },
   "file_extension": ".py",
   "mimetype": "text/x-python",
   "name": "python",
   "nbconvert_exporter": "python",
   "pygments_lexer": "ipython3",
   "version": "3.9.7"
  }
 },
 "nbformat": 4,
 "nbformat_minor": 5
}
